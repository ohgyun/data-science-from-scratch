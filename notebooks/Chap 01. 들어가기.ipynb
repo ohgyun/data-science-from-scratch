{
 "cells": [
  {
   "cell_type": "markdown",
   "metadata": {},
   "source": [
    "### 사용자와 친구 관계"
   ]
  },
  {
   "cell_type": "code",
   "execution_count": 1,
   "metadata": {
    "collapsed": true
   },
   "outputs": [],
   "source": [
    "users = [\n",
    "    { \"id\": 0, \"name\": \"Hero\" },\n",
    "    { \"id\": 1, \"name\": \"Dunn\"},\n",
    "    { \"id\": 2, \"name\": \"Sue\" },\n",
    "    { \"id\": 3, \"name\": \"Chi\" },\n",
    "    { \"id\": 4, \"name\": \"Thor\" },\n",
    "    { \"id\": 5, \"name\": \"Clive\" },\n",
    "    { \"id\": 6, \"name\": \"Hicks\" },\n",
    "    { \"id\": 7, \"name\": \"Devin\" },\n",
    "    { \"id\": 8, \"name\": \"Kate\" },\n",
    "    { \"id\": 9, \"name\": \"Klein\" }\n",
    "]\n",
    "\n",
    "friendships = [\n",
    "    (0, 1), (0, 2), (1, 2), (1, 3), (2, 3), (3, 4),\n",
    "    (4, 5), (5, 6), (5, 7), (6, 8), (7, 8), (8, 9)\n",
    "]\n",
    "\n",
    "for user in users:\n",
    "    user['friends'] = []\n",
    "\n",
    "for i, j in friendships:\n",
    "    users[i]['friends'].append(users[j])\n",
    "    users[j]['friends'].append(users[i])"
   ]
  },
  {
   "cell_type": "markdown",
   "metadata": {},
   "source": [
    "### 각 사용자의 평균 연결 수는?"
   ]
  },
  {
   "cell_type": "code",
   "execution_count": 2,
   "metadata": {
    "collapsed": false
   },
   "outputs": [
    {
     "name": "stdout",
     "output_type": "stream",
     "text": [
      "Total Connections:  24\n",
      "Avg Connections:  2.4\n"
     ]
    }
   ],
   "source": [
    "# 파이썬 하위 버전 호환을 위한 모듈\n",
    "# future 의 division은 소수점까지 출력한다\n",
    "from __future__ import division\n",
    "\n",
    "def number_of_friends(user):\n",
    "    return len(user['friends'])\n",
    "\n",
    "total_connections = sum(number_of_friends(user) for user in users)\n",
    "\n",
    "print 'Total Connections: ', total_connections\n",
    "\n",
    "num_users = len(users)\n",
    "\n",
    "avg_connections = total_connections / num_users\n",
    "\n",
    "print 'Avg Connections: ', avg_connections"
   ]
  },
  {
   "cell_type": "markdown",
   "metadata": {
    "collapsed": true
   },
   "source": [
    "### 친구가 가장 많은 사용자는? 가장 적은 사용자는?"
   ]
  },
  {
   "cell_type": "code",
   "execution_count": 10,
   "metadata": {
    "collapsed": false
   },
   "outputs": [
    {
     "name": "stdout",
     "output_type": "stream",
     "text": [
      "[(1, 3), (2, 3), (3, 3), (5, 3), (8, 3), (0, 2), (4, 2), (6, 2), (7, 2), (9, 1)]\n"
     ]
    }
   ],
   "source": [
    "num_friends_by_id = [(user[\"id\"], number_of_friends(user)) for user in users]\n",
    "\n",
    "# 친구가 많은 순으로 정렬한다\n",
    "friends_sorted = sorted(num_friends_by_id,\n",
    "      key=lambda (user_id, num_friends): num_friends,\n",
    "      reverse=True)\n",
    "\n",
    "print friends_sorted"
   ]
  },
  {
   "cell_type": "markdown",
   "metadata": {},
   "source": [
    "### 친구 추천하기"
   ]
  },
  {
   "cell_type": "code",
   "execution_count": 16,
   "metadata": {
    "collapsed": false
   },
   "outputs": [
    {
     "name": "stdout",
     "output_type": "stream",
     "text": [
      "[0, 2, 3, 0, 1, 3]\n"
     ]
    }
   ],
   "source": [
    "def friends_of_friend_ids_bad(user):\n",
    "    # foaf = 친구의 친구 (friend of a friend)\n",
    "    return [foaf[\"id\"]\n",
    "            for friend in user[\"friends\"]\n",
    "            for foaf in friend[\"friends\"]]\n",
    "    # 리스트 컴프리헨션이 2개가 연속으로 나올 땐 첫 번째 것부터 사용되는 모양이다\n",
    "\n",
    "print friends_of_friend_ids_bad(users[0])\n",
    "\n",
    "# 나, 내 친구가 목록에 중복으로 포함되어 있는 문제가 있다\n"
   ]
  },
  {
   "cell_type": "markdown",
   "metadata": {},
   "source": [
    "### 서로가 함께 아는 친구 (mutual friends)"
   ]
  },
  {
   "cell_type": "code",
   "execution_count": 27,
   "metadata": {
    "collapsed": false
   },
   "outputs": [
    {
     "name": "stdout",
     "output_type": "stream",
     "text": [
      "Counter({0: 2, 5: 1})\n"
     ]
    }
   ],
   "source": [
    "from collections import Counter\n",
    "\n",
    "def not_the_same(user, other_user):\n",
    "    \"\"\"같은 사람인지 여부\"\"\"\n",
    "    return user['id'] != other_user['id']\n",
    "\n",
    "def not_friends(user, other_user):\n",
    "    \"\"\"other_user가 친구에 포함되어 있지 않은지 확인\"\"\"\n",
    "    return all(not_the_same(friend, other_user)\n",
    "              for friend in user['friends'])\n",
    "\n",
    "def friends_of_friend_ids(user):\n",
    "    return Counter(foaf['id']\n",
    "                  for friend in user['friends'] # 사용자의 각 친구들에 대해\n",
    "                  for foaf in friend['friends'] # 그 친구의 친구들 중에서\n",
    "                  if not_the_same(user, foaf) # 내가 아니고\n",
    "                  and not_friends(user, foaf)) # 친구가 아닌 친구의 수만 센다\n",
    "    # 리스트 컴프리헨션 이후에 나오는 조건문은 리스트의 필터 역할을 한다\n",
    "\n",
    "\n",
    "# id가 3인 친구의 친구들 중, 내 친구가 아닌 사람들\n",
    "# {0: 2}라는 건, id가 0인 사용자가, 내 친구들 2명과 친구라는 의미이다\n",
    "print friends_of_friend_ids(users[3])\n",
    "\n"
   ]
  },
  {
   "cell_type": "markdown",
   "metadata": {},
   "source": [
    "### 관심사로 공유"
   ]
  },
  {
   "cell_type": "code",
   "execution_count": 30,
   "metadata": {
    "collapsed": false
   },
   "outputs": [
    {
     "name": "stdout",
     "output_type": "stream",
     "text": [
      "[4, 6, 7]\n"
     ]
    }
   ],
   "source": [
    "interests = [\n",
    "    (0, 'Hadoop'), (0, 'Big Data'), (0, 'HBase'), (0, 'Java'), (0, 'Spark'), (0, 'Storm'), (0, 'Cassandra'),\n",
    "    (1, 'NoSQL'), (1, 'MongoDB'), (1, 'Cassandra'), (1, 'Postgres'),\n",
    "    (2, 'Python'), (2, 'scikit-learn'), (2, 'scipy'), (2, 'numpy'), (2, 'statsmodels'), (2, 'pandas'),\n",
    "    (3, 'R'), (3, 'Python'), (3, 'statistics'), (3, 'regression'), (3, 'probability'),\n",
    "    (4, 'machine learning'), (4, 'regression'), (4, 'decision trees'), (4, 'libsvm'),\n",
    "    (5, 'Python'), (5, 'R'), (5, 'Java'), (5, 'C++'), (5, 'Haskell'), (5, 'programming language'),\n",
    "    (6, 'statistics'), (6, 'probability'), (6, 'machine learning'), (6, 'theory'),\n",
    "    (7, 'machine learning'), (7, 'scikit-learn'), (7, 'Mahout'), (7, 'neural networks'),\n",
    "    (8, 'neural networks'), (8, 'deep learning'), (8, 'Big Data'), (8, 'artificial intelligence'),\n",
    "    (9, 'Hadoop'), (9, 'Java'), (9, 'MapReduce'), (9, 'Big Data')\n",
    "]\n",
    "\n",
    "def data_scientists_who_like(target_interest):\n",
    "    return [user_id\n",
    "           for user_id, user_interest in interests\n",
    "           if user_interest == target_interest]\n",
    "\n",
    "print data_scientists_who_like('machine learning')"
   ]
  },
  {
   "cell_type": "markdown",
   "metadata": {},
   "source": [
    "이렇게 하면 관심사에 대한 사용자를 가져올 수 있지만 매 호출마다 전체 관심사를 훑어야 한다.\n",
    "인덱스를 만들어둬보자."
   ]
  },
  {
   "cell_type": "code",
   "execution_count": 34,
   "metadata": {
    "collapsed": false
   },
   "outputs": [
    {
     "name": "stdout",
     "output_type": "stream",
     "text": [
      "Counter({5: 2, 6: 2, 2: 1, 4: 1})\n"
     ]
    }
   ],
   "source": [
    "from collections import defaultdict\n",
    "\n",
    "# 관심사에 대한 사용자 인덱스를 만든다\n",
    "# defaultdict를 사용하면 키에 해당하는 값을 list로 초기화할 수 있는 모양이다\n",
    "user_ids_by_interest = defaultdict(list)\n",
    "\n",
    "for user_id, interest in interests:\n",
    "    user_ids_by_interest[interest].append(user_id)\n",
    "\n",
    "# 사용자에 대한 관심사 인덱스도 만들어둔다\n",
    "interests_by_user_id = defaultdict(list)\n",
    "\n",
    "for user_id, interest in interests:\n",
    "    interests_by_user_id[user_id].append(interest)\n",
    "\n",
    "# 나와 동일한 관심사를 가진 사용자의 목록\n",
    "def most_common_interests_with(user):\n",
    "    return Counter(interested_user_id\n",
    "                  for interest in interests_by_user_id[user['id']]\n",
    "                  for interested_user_id in user_ids_by_interest[interest]\n",
    "                  if interested_user_id != user['id'])\n",
    "\n",
    "print most_common_interests_with(users[3])"
   ]
  },
  {
   "cell_type": "markdown",
   "metadata": {},
   "source": [
    "### 연봉과 경력 정보 분석"
   ]
  },
  {
   "cell_type": "code",
   "execution_count": 41,
   "metadata": {
    "collapsed": false
   },
   "outputs": [
    {
     "data": {
      "image/png": "[encoded data removed]",
      "text/plain": [
       "<matplotlib.figure.Figure at 0x7f36d77c1b90>"
      ]
     },
     "metadata": {},
     "output_type": "display_data"
    }
   ],
   "source": [
    "from matplotlib import pyplot as plt\n",
    "\n",
    "# 연봉과 근속 기간(년)\n",
    "salaries_and_tenures = [\n",
    "    (83000, 8.7), (88000, 8.1),\n",
    "    (48000, 0.7), (76000, 6),\n",
    "    (69000, 6.5), (76000, 7.5),\n",
    "    (60000, 2.5), (83000, 10),\n",
    "    (48000, 1.9), (63000, 4.2)\n",
    "]\n",
    "\n",
    "plt.scatter(\n",
    "    [salary for salary, tenure in salaries_and_tenures],\n",
    "    [tenure for salary, tenure in salaries_and_tenures]\n",
    ")\n",
    "plt.title('Salary by years experience')\n",
    "plt.ylabel('Salary')\n",
    "plt.xlabel('Years experience')\n",
    "plt.show()"
   ]
  },
  {
   "cell_type": "markdown",
   "metadata": {},
   "source": [
    "산점도를 그려보면 경력에 따라 연봉이 올라가는 걸 알 수 있다.\n",
    "좀 더 흥미로운 정보는 어떻게 찾을 수 있을까?\n",
    "\n",
    "먼저 근속 연수에 따라 평균 연봉이 어떻게 바뀌는지 살펴보자."
   ]
  },
  {
   "cell_type": "code",
   "execution_count": 50,
   "metadata": {
    "collapsed": false
   },
   "outputs": [
    {
     "name": "stdout",
     "output_type": "stream",
     "text": [
      "{6.5: 69000.0, 7.5: 76000.0, 6: 76000.0, 10: 83000.0, 8.1: 88000.0, 4.2: 63000.0, 8.7: 83000.0, 0.7: 48000.0, 1.9: 48000.0, 2.5: 60000.0}\n",
      "[(0.7, 48000.0), (1.9, 48000.0), (2.5, 60000.0), (4.2, 63000.0), (6, 76000.0), (6.5, 69000.0), (7.5, 76000.0), (8.1, 88000.0), (8.7, 83000.0), (10, 83000.0)]\n"
     ]
    }
   ],
   "source": [
    "# 근속 연수에 따른 연봉\n",
    "salary_by_tenure = defaultdict(list)\n",
    "\n",
    "for salary, tenure in salaries_and_tenures:\n",
    "    salary_by_tenure[tenure].append(salary)\n",
    "    \n",
    "# 평균 연봉\n",
    "average_salary_by_tenure = {\n",
    "    tenure : sum(salaries) / len(salaries)\n",
    "    for tenure, salaries in salary_by_tenure.items()\n",
    "}\n",
    "# 딕셔너리를 반복하면서, 맵을 만들 수 있음 (map()과 동일한 듯)\n",
    "\n",
    "print average_salary_by_tenure\n",
    "\n",
    "\n",
    "# 튜블의 배열로 만들 수도 있을 듯\n",
    "average_salaries = sorted([\n",
    "    (tenure, sum(salaries) / len(salaries))\n",
    "    for tenure, salaries in salary_by_tenure.items()\n",
    "])\n",
    "print average_salaries"
   ]
  },
  {
   "cell_type": "markdown",
   "metadata": {},
   "source": [
    "하지만, 근속 연수가 같은 사람이 한 명도 없어서 결과가 쓸모 있어 보이지 않는다.  \n",
    "근속 기간을 몇 개의 구간으로 나눠보자."
   ]
  },
  {
   "cell_type": "code",
   "execution_count": 57,
   "metadata": {
    "collapsed": false
   },
   "outputs": [
    {
     "name": "stdout",
     "output_type": "stream",
     "text": [
      "{'more than five': 79166.66666666667, 'between two and five': 61500.0, 'less than two': 48000.0}\n"
     ]
    }
   ],
   "source": [
    "def tenure_bucket(tenure):\n",
    "    if tenure < 2:\n",
    "        return 'less than two'\n",
    "    elif tenure < 5:\n",
    "        return 'between two and five'\n",
    "    else:\n",
    "        return 'more than five'\n",
    "\n",
    "salary_by_tenure_bucket = defaultdict(list)\n",
    "\n",
    "for salary, tenure in salaries_and_tenures:\n",
    "    salary_by_tenure_bucket[tenure_bucket(tenure)].append(salary)\n",
    "\n",
    "average_salary_by_bucket = {\n",
    "    tenure_bucket: sum(salaries) / len(salaries)\n",
    "    for tenure_bucket, salaries in salary_by_tenure_bucket.iteritems()\n",
    "}\n",
    "\n",
    "# iteritems는 전체 리스트 대신 generator를 리턴한다\n",
    "# http://stackoverflow.com/questions/10458437/what-is-the-difference-between-dict-items-and-dict-iteritems\n",
    "\n",
    "print average_salary_by_bucket"
   ]
  },
  {
   "cell_type": "markdown",
   "metadata": {},
   "source": [
    "5년 이상 경력의 데이터 과학자들은, 경력이 없거나 2년 이하의 과학자들보다 65%나 더 번다."
   ]
  },
  {
   "cell_type": "code",
   "execution_count": 59,
   "metadata": {
    "collapsed": false
   },
   "outputs": [
    {
     "name": "stdout",
     "output_type": "stream",
     "text": [
      "164.930555556\n"
     ]
    }
   ],
   "source": [
    "print average_salary_by_bucket['more than five'] / average_salary_by_bucket['less than two'] * 100"
   ]
  },
  {
   "cell_type": "markdown",
   "metadata": {},
   "source": [
    "버킷을 1년 단위로 설정해볼 수도 있다."
   ]
  },
  {
   "cell_type": "code",
   "execution_count": 60,
   "metadata": {
    "collapsed": false
   },
   "outputs": [
    {
     "name": "stdout",
     "output_type": "stream",
     "text": [
      "{1.0: 48000.0, 2.0: 48000.0, 3.0: 60000.0, 4.0: 63000.0, 6.0: 76000.0, 7.0: 69000.0, 8.0: 82000.0, 9.0: 83000.0, 10.0: 83000.0}\n"
     ]
    }
   ],
   "source": [
    "def each_year_tenure(tenure):\n",
    "    return round(tenure)\n",
    "\n",
    "salary_by_each_year_tenure = defaultdict(list)\n",
    "\n",
    "for salary, tenure in salaries_and_tenures:\n",
    "    salary_by_each_year_tenure[each_year_tenure(tenure)].append(salary)\n",
    "\n",
    "average_salary_by_each_year_tenure = {\n",
    "    each_year_tenure: sum(salaries) / len(salaries)\n",
    "    for each_year_tenure, salaries in salary_by_each_year_tenure.iteritems()\n",
    "}\n",
    "\n",
    "print average_salary_by_each_year_tenure"
   ]
  }
 ],
 "metadata": {
  "kernelspec": {
   "display_name": "Python 2",
   "language": "python",
   "name": "python2"
  },
  "language_info": {
   "codemirror_mode": {
    "name": "ipython",
    "version": 2
   },
   "file_extension": ".py",
   "mimetype": "text/x-python",
   "name": "python",
   "nbconvert_exporter": "python",
   "pygments_lexer": "ipython2",
   "version": "2.7.12"
  }
 },
 "nbformat": 4,
 "nbformat_minor": 1
}
