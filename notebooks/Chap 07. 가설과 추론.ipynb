{
 "cells": [
  {
   "cell_type": "markdown",
   "metadata": {},
   "source": [
    "### 통계적 가설 검정\n",
    "\n",
    "특정 가설이 사실인지 아닌지 검정(testing)해보고 싶은 경우가 있다.\n",
    "\n",
    "- 가설(hypothesis)은 데이터 통계치에 대한 이야기로 변환될 수 있으며, 다양한 가정 하에서 특정 분포에 대한 확률변수의 관측치로 이해할 수 있다.\n",
    "- 귀무가설(H0, null hypothesis): 기본적인 가설\n",
    "- 대립가설(H1, alternative hypothesis): 비교하고 싶은 가설\n",
    "\n",
    "보통 통계를 사용해서, 귀무가설 H0을 기각할지 말지를 결정한다.\n"
   ]
  },
  {
   "cell_type": "markdown",
   "metadata": {},
   "source": [
    "### 예시: 동전 던지기\n",
    "\n",
    "동전이 하나 있다. 이 동전이 공평한 동전인지, 아닌지를 검정하고 싶다.\n",
    "\n",
    "동전에서 앞면이 나올 확률이 p라고 하면,\n",
    "- 귀무가설(H0): p = 0.5 # 동전이 공평하다는 의미\n",
    "- 대립가설(H1): p != 0.5\n",
    "\n",
    "동전을 n번 던져서 앞면이 나온 횟수 X를 세는 것으로 검정을 진행한다.  \n",
    "\n",
    "* 동전 던지기는 각각 베르누이 분포를 따를 것이고, 이 것은 X가 이항분포를 따르는 확률변수라는 것을 의미한다\n",
    "* 이항분포는 정규분포로 근사한다"
   ]
  },
  {
   "cell_type": "code",
   "execution_count": 49,
   "metadata": {
    "collapsed": false
   },
   "outputs": [
    {
     "name": "stdout",
     "output_type": "stream",
     "text": [
      "0.5\n",
      "0.691462461274\n",
      "0.308537538726\n",
      "0.191462461274\n",
      "0.808537538726\n",
      "0.0\n",
      "0.674486160278\n",
      "-0.674486160278\n",
      "(-0.6744861602783203, 0.6744861602783203)\n"
     ]
    }
   ],
   "source": [
    "from __future__ import division\n",
    "import math\n",
    "\n",
    "def normal_approximation_to_binomial(n, p):\n",
    "    \"\"\"베르누이 시행의 평균과 표준편차를 계산한다\"\"\"\n",
    "    mu = p * n\n",
    "    sigma = math.sqrt(p * (1 - p) * n)\n",
    "    return mu, sigma\n",
    "\n",
    "# 확률변수가 정규분포를 따른다는 가정 하에,\n",
    "# normal_cdf를 사용하면 실제 동전 던지기로부터 얻은 값이 구간 안(혹은 밖)에 존재할 확률을 계산할 수 있다\n",
    "\n",
    "def normal_cdf(x, mu=0, sigma=1):\n",
    "    \"\"\"정규분포의 누적분포함수\"\"\"\n",
    "    return (1 + math.erf((x - mu) / math.sqrt(2) / sigma)) / 2\n",
    "\n",
    "def normal_probability_below(hi, mu=0, sigma=1):\n",
    "    \"\"\"확률변수가 특정값보다 작을 확률\"\"\"\n",
    "    return normal_cdf(hi, mu, sigma)\n",
    "\n",
    "def normal_probability_above(lo, mu=0, sigma=1):\n",
    "    \"\"\"확률변수가 특정값보다 클 확률\"\"\"\n",
    "    return 1 - normal_cdf(lo, mu, sigma)\n",
    "\n",
    "def normal_probability_between(lo, hi, mu=0, sigma=1):\n",
    "    \"\"\"확률변수가 특정 범위 사이에 존재할 확률\"\"\"\n",
    "    return normal_cdf(hi, mu, sigma) - normal_cdf(lo, mu, sigma)\n",
    "\n",
    "def normal_probability_outside(lo, hi, mu=0, sigma=1):\n",
    "    \"\"\"확률변수가 특정 범위 밖에 존재할 확률\"\"\"\n",
    "    return 1 - normal_probability_between(lo, hi, mu, sigma)\n",
    "\n",
    "# 확률이 주어졌을 때 평균을 중심으로 하는 대칭 구간을 구할 수도 있다\n",
    "def inverse_normal_cdf(p, mu=0, sigma=1, tolerance=0.00001):\n",
    "    \"\"\"이진 검색으로 역함수를 근사\"\"\"\n",
    "\n",
    "    # 표준정규분포가 아니면 변환\n",
    "    if mu != 0 or sigma != 1:\n",
    "        return mu + sigma * inverse_normal_cdf(p, tolerance=tolerance)\n",
    "    \n",
    "    low_z, low_p = -10.0, 0 # normal_cdf(-10)은 0에 근접\n",
    "    hi_z, hi_p = 10.0, 1 # normal_cdf(10)은 1에 근접\n",
    "    \n",
    "    while hi_z - low_z > tolerance:\n",
    "        mid_z = (low_z + hi_z) / 2 # 중간값\n",
    "        mid_p = normal_cdf(mid_z) # 중간값의 누적분포\n",
    "        if mid_p < p: # 중간값이 너무 작으면 더 큰 값을 검색\n",
    "            low_z, low_p = mid_z, mid_p\n",
    "        elif mid_p > p:\n",
    "            hi_z, hi_p = mid_z, mid_p\n",
    "        else:\n",
    "            break\n",
    "            \n",
    "    return mid_z # 확률변수 값을 반환\n",
    "\n",
    "def normal_upper_bound(probability, mu=0, sigma=1):\n",
    "    \"\"\"P(Z <= z) = probability인 z 값을 반환\"\"\"\n",
    "    return inverse_normal_cdf(probability, mu, sigma)\n",
    "\n",
    "def normal_lower_bound(probability, mu=0, sigma=1):\n",
    "    \"\"\"P(Z >= z) = probability인 z 값을 반환\"\"\"\n",
    "    return inverse_normal_cdf(1 - probability, mu, sigma)\n",
    "\n",
    "def normal_two_sided_bounds(probability, mu=0, sigma=1):\n",
    "    \"\"\"입력한 probability를 포함하고, 평균을 중심으로 대칭인 구간\"\"\"\n",
    "    tail_probability = (1 - probability) / 2\n",
    "    upper_bound = normal_lower_bound(tail_probability, mu, sigma)\n",
    "    lower_bound = normal_upper_bound(tail_probability, mu, sigma)\n",
    "    return lower_bound, upper_bound\n",
    "\n",
    "print normal_probability_below(0) # 확률변수가 0보다 작을 확률\n",
    "print normal_probability_below(0.5) # 확률변수가 0.5보다 작을 확률\n",
    "print normal_probability_above(0.5) # 확률변수가 0.5보다 클 확률\n",
    "print normal_probability_between(0, 0.5) # 확률변수가 0에서 0.5에 있을 확률\n",
    "print normal_probability_outside(0, 0.5) # 확률변수가 0에서 0.5 바깥에 있을 확률\n",
    "\n",
    "print normal_upper_bound(0.5) # 50% 확률인 확률변수 값\n",
    "print normal_upper_bound(0.75) # 75% 확률인 확률변수 값\n",
    "print normal_lower_bound(0.75) # 25% 확률인 확률변수 값\n",
    "print normal_two_sided_bounds(0.5)\n"
   ]
  },
  {
   "cell_type": "code",
   "execution_count": 50,
   "metadata": {
    "collapsed": false
   },
   "outputs": [
    {
     "name": "stdout",
     "output_type": "stream",
     "text": [
      "평균: 500.0\n",
      "표준편차: 15.8113883008\n"
     ]
    }
   ],
   "source": [
    "# 실제로 동전을 1000번 던져 본다 (n = 1000, 동전이 공평하다면 p = 0.5)\n",
    "mu_0, sigma_0 = normal_approximation_to_binomial(1000, 0.5)\n",
    "\n",
    "print '평균:', mu_0\n",
    "print '표준편차:', sigma_0\n",
    "\n"
   ]
  },
  {
   "cell_type": "markdown",
   "metadata": {},
   "source": [
    "#### 제1종 오류\n",
    "- 비록 H0이 참이지만, H0을 기각하는 오류 (또는 대립가설 H1을 수용하는 오류)\n",
    "- 예) 무죄인 사람을 유죄로 판결\n",
    "- 보통 5%나 1%로 유의수준을 설정한다\n",
    "- 유의수준(significance): 오류를 얼마나 허용해 줄 것인지를 의미하는 값\n",
    "\n",
    "여기선, 1종 오류의 유의수준을 5%로 선택해보자.  \n",
    "X가 주어진 범위를 벗어나면 귀무가설 H0을 기각하는 가설 검정을 고려해보자.\n",
    "\n",
    "p가 정말로 0.5, 즉 공평한 동전이라는 귀무가설 H0이 참이라면,  \n",
    "확률변수 X(동전 던지기 시행의 결과값)가 주어진 범위를 벗어날 확률은 5% 밖에 되지 않을 것이다.  \n",
    "\n",
    "바꿔 말하면, 만약 H0이 참이라면, 이 가설 검정은 20번 중 19번은 올바른 결과를 줄 것이다."
   ]
  },
  {
   "cell_type": "code",
   "execution_count": 51,
   "metadata": {
    "collapsed": false
   },
   "outputs": [
    {
     "name": "stdout",
     "output_type": "stream",
     "text": [
      "(469.01026640487555, 530.9897335951244)\n"
     ]
    }
   ],
   "source": [
    "# 1종 오류의 유의수준을 5%로 선택해보자\n",
    "# X가 주어진 범위를 벗어나면 귀무가설 H0을 기각하는 가설 검정을 고려해보자\n",
    "\n",
    "print normal_two_sided_bounds(0.95, mu_0, sigma_0) # 유의수준 5% 이내의 범위"
   ]
  },
  {
   "cell_type": "markdown",
   "metadata": {},
   "source": [
    "#### 제2종 오류\n",
    "- H0이 참이 아닌데, H0을 참으로 수용하는 오류\n",
    "- 즉, H0이 거짓이지만, H0을 기각하지 않는 오류\n",
    "- 예) 유죄인 사람을 무죄로 판결\n",
    "\n",
    "제2종 오류를 범하지 않을 확률을 구하면 검정력(power)을 알 수 있다.\n",
    "- 검정력: 대립가설 H1이 참일 때(즉, 귀무가설 H0이 거짓일 때), 대립가설 H1을 수용하고 귀무가설 H0를 기각하는 옳은 결정을 할 확률\n",
    "\n",
    "2종 오류를 측정하려면, 먼저 H0이 거짓이라는 것이 무엇을 의미하는지 알아볼 필요가 있다.  \n",
    "(즉, 대립가설이 있어야 한다)\n",
    "\n",
    "p가 0.5가 아니라는 말은 X의 분포에 대해 많은 것을 알려주지 않는다.  \n",
    "예를 들어, p가 0.55, 즉 동전의 앞면이 나올 확률이 약간 편향되어 있다면 검정력은 다음과 같다."
   ]
  },
  {
   "cell_type": "code",
   "execution_count": 66,
   "metadata": {
    "collapsed": false
   },
   "outputs": [
    {
     "name": "stdout",
     "output_type": "stream",
     "text": [
      "p=0.5, 유의수준 5%일 때, 구간 시작: 469.010266405\n",
      "p=0.5, 유의수준 5%일 때, 구간 끝: 530.989733595\n",
      "p=0.55일 때 실제 평균: 550.0\n",
      "p=0.55일 때 실제 표준편차: 15.7321327226\n",
      "제2종 오류: p=0.55일 때, (p=0.5,유의수준 5%)인 구간이 존재할 확률: 0.113451998705\n",
      "p=0.55일 때, 검정력: 0.886548001295\n"
     ]
    }
   ],
   "source": [
    "# p가 0.5일 때, 유의수준이 5%인 구간\n",
    "lo, hi = normal_two_sided_bounds(0.95, mu_0, sigma_0)\n",
    "\n",
    "print 'p=0.5, 유의수준 5%일 때, 구간 시작:', lo\n",
    "print 'p=0.5, 유의수준 5%일 때, 구간 끝:', hi\n",
    "\n",
    "# p = 0.55인 경우의 실제 평균과 표준편차\n",
    "mu_1, sigma_1 = normal_approximation_to_binomial(1000, 0.55)\n",
    "\n",
    "print 'p=0.55일 때 실제 평균:', mu_1\n",
    "print 'p=0.55일 때 실제 표준편차:', sigma_1\n",
    "\n",
    "# 제2종 오류란 귀무가설(H0)을 기각하지 못한다는 의미\n",
    "# 즉, X가 주어진 구간 안에 존재하는 경우를 의미\n",
    "type_2_probability = normal_probability_between(lo, hi, mu_1, sigma_1)\n",
    "print '제2종 오류: p=0.55일 때, (p=0.5,유의수준 5%)인 구간이 존재할 확률:', type_2_probability\n",
    "\n",
    "power = 1 - type_2_probability\n",
    "print 'p=0.55일 때, 검정력:', power"
   ]
  },
  {
   "cell_type": "markdown",
   "metadata": {},
   "source": [
    "만약, p<=0.5, 즉 '동전이 앞면에 편향되어 있지 않다'를 귀무가설로 정한다면,  \n",
    "X가 50보다 크면 귀무가설을 기각하고,  \n",
    "50보다 작다면 기각하지 않는 단측검정이 필요해진다.\n",
    "- 단측검정: 가설 검정에서 평균의 한쪽 끝값, 즉 표본 분포의 한쪽에 관심을 가지고 시행하는 검정 방법.\n"
   ]
  },
  {
   "cell_type": "code",
   "execution_count": 67,
   "metadata": {
    "collapsed": false
   },
   "outputs": [
    {
     "name": "stdout",
     "output_type": "stream",
     "text": [
      "95% 경계값: 526.007358524\n",
      "제2종 오류: 0.0636205196693\n",
      "검정력: 0.936379480331\n"
     ]
    }
   ],
   "source": [
    "# 유의수준 5%인 가설검정을 위해, 분포의 95% 해당 값 이하인 경계 값을 찾는다\n",
    "hi = normal_upper_bound(0.95, mu_0, sigma_0)\n",
    "\n",
    "print '95% 경계값:', hi\n",
    "\n",
    "# p=0.55일 때, (p=0.5,95% 경계값)의 누적분포확률\n",
    "type_2_probability = normal_probability_below(hi, mu_1, sigma_1)\n",
    "print '제2종 오류:', type_2_probability\n",
    "\n",
    "power = 1 - type_2_probability\n",
    "print '검정력:', power\n",
    "\n"
   ]
  }
 ],
 "metadata": {
  "kernelspec": {
   "display_name": "Python 2",
   "language": "python",
   "name": "python2"
  },
  "language_info": {
   "codemirror_mode": {
    "name": "ipython",
    "version": 2
   },
   "file_extension": ".py",
   "mimetype": "text/x-python",
   "name": "python",
   "nbconvert_exporter": "python",
   "pygments_lexer": "ipython2",
   "version": "2.7.12"
  }
 },
 "nbformat": 4,
 "nbformat_minor": 1
}
