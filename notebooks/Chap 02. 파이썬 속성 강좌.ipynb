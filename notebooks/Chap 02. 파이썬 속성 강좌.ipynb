{
 "cells": [
  {
   "cell_type": "markdown",
   "metadata": {},
   "source": [
    "### 배포판\n",
    "- Python에는 여러가지 배포판이 있고, 그 중 아나콘다(Anaconda) 배포판에는 데이터 과학에 필요한 대부분의 라이브러리들이 이미 설치되어 있다.\n",
    "- IPython은 더 괜찮은 파이썬 쉘이고, Jupyter라고 불리는 기존 IPython notebook을 쓰는 사람도 많다."
   ]
  },
  {
   "cell_type": "markdown",
   "metadata": {},
   "source": [
    "### 문법\n",
    "- 들여쓰기로 코드의 단락이 구분된다.\n",
    "- 괄호 안에서는 공백문자는 무시되므로 가독성을 높이는데 유용하게 쓸 수 있다."
   ]
  },
  {
   "cell_type": "markdown",
   "metadata": {},
   "source": [
    "### Import"
   ]
  },
  {
   "cell_type": "code",
   "execution_count": 2,
   "metadata": {
    "collapsed": false
   },
   "outputs": [
    {
     "name": "stdout",
     "output_type": "stream",
     "text": [
      "<function match at 0x7f90aba07c80>\n"
     ]
    }
   ],
   "source": [
    "# 전체 모듈을 불러올 때\n",
    "import re\n",
    "\n",
    "# 앨리어스를 사용해 불러옴\n",
    "import re as regex\n",
    "import matplotlib.pyplot as plt\n",
    "\n",
    "# 모듈 하나에서 특정 기능만 가져올 수도 있다\n",
    "from collections import defaultdict, Counter\n",
    "\n",
    "# 모듈 기능을 통째로 가져오는 습관은 좋지않다.\n",
    "match = 10\n",
    "from re import *\n",
    "print match # re에도 match가 있다"
   ]
  },
  {
   "cell_type": "markdown",
   "metadata": {},
   "source": [
    "### 연산"
   ]
  },
  {
   "cell_type": "code",
   "execution_count": 4,
   "metadata": {
    "collapsed": true
   },
   "outputs": [],
   "source": [
    "# Python 2.7에서는 정수 나눗셈을 기본으로 사용한다.\n",
    "# 원하는 결과를 얻기 위해 아래처럼 __future__ 모듈을 사용하자\n",
    "from __future__ import division"
   ]
  },
  {
   "cell_type": "markdown",
   "metadata": {},
   "source": [
    "### 함수\n"
   ]
  },
  {
   "cell_type": "code",
   "execution_count": 10,
   "metadata": {
    "collapsed": false
   },
   "outputs": [
    {
     "name": "stdout",
     "output_type": "stream",
     "text": [
      "2\n",
      "5\n",
      "hello\n",
      "default message\n",
      "8\n",
      "-5\n",
      "-5\n"
     ]
    }
   ],
   "source": [
    "# def 로 함수를 정의한다\n",
    "def double(x):\n",
    "    return x * 2\n",
    "\n",
    "# 파이썬 함수는 변수로 할당되거나 함수의 인자로 전달할 수 있다는 점에서 일급 함수(first-class) 특성을 갖는다\n",
    "def apply_to_one(f):\n",
    "    return f(1)\n",
    "\n",
    "my_double = double\n",
    "x = apply_to_one(my_double)\n",
    "\n",
    "print x #-> 2\n",
    "\n",
    "# 익명함수인 람다를 쓸 수도 있다\n",
    "y = apply_to_one(lambda x: x + 4)\n",
    "\n",
    "print y #-> 5\n",
    "\n",
    "# 람다를 변수에 할당할 수도 있지만 가능한 피하는 것이 좋다\n",
    "another_double = lambda x: 2 * x\n",
    "\n",
    "# 함수의 인자에는 기본값을 할당할 수 있다\n",
    "def my_print(message=\"default message\"):\n",
    "    print message\n",
    "\n",
    "my_print(\"hello\")\n",
    "my_print()\n",
    "\n",
    "# 인자에 이름을 명시해주면 편리하다\n",
    "def subtract(a=0, b=0):\n",
    "    return a - b\n",
    "\n",
    "print subtract(10, 2)\n",
    "print subtract(0, 5)\n",
    "print subtract(b=5)"
   ]
  },
  {
   "cell_type": "markdown",
   "metadata": {},
   "source": [
    "### 문자열"
   ]
  },
  {
   "cell_type": "code",
   "execution_count": 15,
   "metadata": {
    "collapsed": false
   },
   "outputs": [
    {
     "name": "stdout",
     "output_type": "stream",
     "text": [
      "1\n",
      "2\n"
     ]
    }
   ],
   "source": [
    "# 문자열은 작음 따옴표(')나 큰 따옴표(\")로 묶어 나타낸다\n",
    "single_quoted_string = 'data science'\n",
    "double_quoted_string = \"data science\"\n",
    "\n",
    "# 특수 문자를 인코딩할 땐 역슬래시를 사용한다\n",
    "tab_string = \"\\t\"\n",
    "print len(tab_string) # 1\n",
    "\n",
    "# 역슬래시를 역슬래시로 보이는 문자로 사용하고 싶다면,\n",
    "# (예를 들어, 정규식이나 윈도우 OS의 디렉토리 이름 등)\n",
    "# 문자열 앞에 r을 붙여서 raw string 으로 명시하면 된다\n",
    "not_tab_string = r\"\\t\"\n",
    "print len(not_tab_string) # 2\n",
    "\n",
    "### 세 개의 따옴표는 여러 줄로 나타낼 수 있다\n",
    "multi_line_string = \"\"\"This is the first line.\n",
    "and this is the second line\n",
    "and this is the third line\n",
    "\"\"\""
   ]
  },
  {
   "cell_type": "markdown",
   "metadata": {},
   "source": [
    "### 예외 처리"
   ]
  },
  {
   "cell_type": "code",
   "execution_count": 16,
   "metadata": {
    "collapsed": false
   },
   "outputs": [
    {
     "name": "stdout",
     "output_type": "stream",
     "text": [
      "cannot divide by zero\n"
     ]
    }
   ],
   "source": [
    "# try 와 except로 예외 처리할 수 있다\n",
    "try:\n",
    "    print 0 / 0\n",
    "except ZeroDivisionError:\n",
    "    print \"cannot divide by zero\"\n",
    "    \n"
   ]
  },
  {
   "cell_type": "markdown",
   "metadata": {},
   "source": [
    "### list"
   ]
  },
  {
   "cell_type": "code",
   "execution_count": 32,
   "metadata": {
    "collapsed": false
   },
   "outputs": [
    {
     "name": "stdout",
     "output_type": "stream",
     "text": [
      "3\n",
      "6\n",
      "[-1, 1, 2, 3, 4, 5, 6, 7, 8, 9]\n",
      "[-1, 1, 2]\n",
      "[3, 4, 5, 6, 7, 8, 9]\n",
      "[1, 2, 3, 4]\n",
      "[7, 8, 9]\n",
      "[1, 2, 3, 4, 5, 6, 7, 8]\n",
      "[-1, 1, 2, 3, 4, 5, 6, 7, 8, 9]\n",
      "True\n",
      "False\n",
      "[1, 2, 3, 4, 5, 6]\n",
      "[1, 2, 3]\n",
      "[1, 2, 3, 4, 5, 6]\n",
      "[1, 2, 3, 0]\n",
      "1\n",
      "2\n",
      "2\n",
      "1\n"
     ]
    }
   ],
   "source": [
    "# 순서가 있는 자료의 집합 (배열과 유사하지만 기능이 좀 더 풍부하다)\n",
    "integer_list = [1, 2, 3]\n",
    "heterogeneous_list = ['string', 0.1, True]\n",
    "\n",
    "print len(integer_list) # 3\n",
    "print sum(integer_list) # 5\n",
    "\n",
    "# 대괄호로 인덱스에 해당하는 값을 가져올 수 있다\n",
    "x = range(10) # [0, 1, ... 9] 형태의 리스트\n",
    "zero = x[0]\n",
    "one = x[1]\n",
    "nine = x[-1]\n",
    "eight = x[-2]\n",
    "x[0] = -1\n",
    "\n",
    "print x\n",
    "\n",
    "# 대괄호로 list를 나눌 수 있다\n",
    "first_three = x[:3]\n",
    "three_to_end = x[3:]\n",
    "one_to_four = x[1:5]\n",
    "last_three = x[-3:] # -3에서 0까지\n",
    "without_first_and_last = x[1:-1]\n",
    "copy_of_x = x[:] # 복사본\n",
    "\n",
    "print first_three\n",
    "print three_to_end\n",
    "print one_to_four\n",
    "print last_three\n",
    "print without_first_and_last\n",
    "print copy_of_x\n",
    "\n",
    "# in 연산자로 항목의 존재 여부를 확인할 수 있다\n",
    "print -1 in first_three\n",
    "print -1 in three_to_end\n",
    "# 이 방법은 전체 항목을 모두 확인하므로 리스트 크기가 작을 때에만 사용하자\n",
    "\n",
    "# 리스트 연결\n",
    "x = [1, 2, 3]\n",
    "x.extend([4, 5, 6]) # x 자체가 변경된다\n",
    "print x # [1, 2, 3, 4, 5, 6]\n",
    "\n",
    "# x를 수정하고 싶지 않다면 더하면 된다\n",
    "x = [1, 2, 3]\n",
    "y = x + [4, 5, 6]\n",
    "print x # [1, 2, 3]\n",
    "print y # [1, 2, 3, 4, 5, 6]\n",
    "\n",
    "# 항목을 하나씩 추가할 땐\n",
    "x.append(0)\n",
    "print x # [1, 2, 3, 0]\n",
    "\n",
    "# 리스트를 쉽게 풀 수도 있다 (unpack)\n",
    "x, y = [1, 2]\n",
    "print x # 1\n",
    "print y # 2\n",
    "\n",
    "# 갯수가 다르면 ValueError가 발생하며, 보통 버릴 항목은 _로 처리한다\n",
    "_, y = [1, 2]\n",
    "print y # 2\n",
    "print _ # _에도 1이 할당되지만 신경쓰지 않는다"
   ]
  },
  {
   "cell_type": "markdown",
   "metadata": {},
   "source": [
    "### tuple"
   ]
  },
  {
   "cell_type": "code",
   "execution_count": 35,
   "metadata": {
    "collapsed": false
   },
   "outputs": [
    {
     "name": "stdout",
     "output_type": "stream",
     "text": [
      "cannot modify a tuple\n",
      "(5, 6)\n",
      "15 50\n"
     ]
    }
   ],
   "source": [
    "# 튜플은 변경할 수 없는 list이다. 리스트에서 수정 기능을 제외하고 모두 튜플에 적용할 수 있다\n",
    "# 튜플은 대괄호 대신 괄호를 사용한다\n",
    "my_list = [1, 2]\n",
    "my_tuple = (1, 2)\n",
    "outher_tuple = 3, 4 # 괄호를 생략할 수도 있다\n",
    "my_list[1] = 3\n",
    "\n",
    "try:\n",
    "    my_tuple[1] = 3\n",
    "except TypeError:\n",
    "    print \"cannot modify a tuple\"\n",
    "    \n",
    "# 함수에서 여러 값을 반환할 때 튜플을 사용하면 편리하다\n",
    "def sum_and_product(x, y):\n",
    "    return (x + y), (x * y)\n",
    "sp = sum_and_product(2, 3)\n",
    "print sp # (5, 6)\n",
    "\n",
    "x, p = sum_and_product(5, 10) # 바로 풀어서 받을 수도 있다\n",
    "print x, p\n",
    "\n",
    "# tuple과 list 모두 다중 할당(multiple assignment)를 지원한다\n",
    "x, y = 1, 2\n",
    "x, y = y, x # 가장 파이썬스러운 교환\n"
   ]
  },
  {
   "cell_type": "markdown",
   "metadata": {},
   "source": [
    "### dict"
   ]
  },
  {
   "cell_type": "code",
   "execution_count": 62,
   "metadata": {
    "collapsed": false
   },
   "outputs": [
    {
     "name": "stdout",
     "output_type": "stream",
     "text": [
      "80\n",
      "no grade for Kate!\n",
      "True\n",
      "False\n",
      "True\n",
      "80\n",
      "0\n",
      "None\n",
      "3\n",
      "2\n",
      "['text', 'retweet_count', 'hashtags', 'user']\n",
      "['Data Science is Awesome', 100, ['#data', '#science', '#datascience', '#awesome', '#yolo'], 'joelgrus']\n",
      "[('text', 'Data Science is Awesome'), ('retweet_count', 100), ('hashtags', ['#data', '#science', '#datascience', '#awesome', '#yolo']), ('user', 'joelgrus')]\n",
      "True\n",
      "True\n",
      "True\n",
      "{'text': 'Data Science is Awesome', 'retweet_count': 100, 'hashtags': ['#data', '#science', '#datascience', '#awesome', '#yolo'], 'user': 'joelgrus', ('lat', 'lng'): (123, 456)}\n"
     ]
    }
   ],
   "source": [
    "# dict(dictionary, 사전)은 key와 value를 연결하는 데이터 구조이다\n",
    "empty_dict = {}\n",
    "empty_dict2 = dict() # 이렇게 할 수도 있지만 보통 {} 를 사용한다\n",
    "\n",
    "# 키 값에는 반드시 따옴표를 붙여야 한다\n",
    "grades = { \"Joel\": 80, \"Tim\": 95 }\n",
    "\n",
    "# 대괄호로 키의 값을 가져올 수 있다\n",
    "print grades['Joel'] # 80\n",
    "\n",
    "# 대괄호로 존재하지 않는 key를 입력하면 KeyError가 발생한다\n",
    "try:\n",
    "    grades[\"Kate\"]\n",
    "except KeyError:\n",
    "    print \"no grade for Kate!\"\n",
    "    \n",
    "# in 연산자로 key의 존재 여부를 확인할 수 있다\n",
    "print 'Joel' in grades\n",
    "print 'Kate' in grades\n",
    "print 'Kate' not in grades\n",
    "\n",
    "# get() 메서드를 사용하면, 키가 없을 때 에러 대신 기본값을 반환한다. 기본값이 없다면 None을 반환한다\n",
    "print grades.get('Joel', 0) # 80\n",
    "print grades.get('Kate', 0) # 0\n",
    "print grades.get('Kate') # None\n",
    "\n",
    "# 대괄호로 새 값을 지정할 수 있다\n",
    "grades['Kate'] = 100\n",
    "num_students = len(grades) # 사전도 len()으로 크기를 가져올 수 있다\n",
    "print num_students # 3\n",
    "\n",
    "# 키 값을 지울 땐 del을 사용하면 된다\n",
    "del grades['Joel']\n",
    "print len(grades) # 2\n",
    "\n",
    "# 전체 키를 살펴볼 수도 있다\n",
    "tweet = {\n",
    "    \"user\": \"joelgrus\",\n",
    "    \"text\": \"Data Science is Awesome\",\n",
    "    \"retweet_count\": 100,\n",
    "    \"hashtags\": [\"#data\", \"#science\", \"#datascience\", \"#awesome\", \"#yolo\"]\n",
    "}\n",
    "tweet_keys = tweet.keys()\n",
    "tweet_values = tweet.values()\n",
    "tweet_items = tweet.items() # (key, value) 목록\n",
    "\n",
    "print tweet_keys\n",
    "print tweet_values\n",
    "print tweet_items\n",
    "\n",
    "# 사전 내에서 검색할 수도 있다\n",
    "print \"user\" in tweet_keys # 전체 리스트를 찾으므로 느리다\n",
    "print \"user\" in tweet # 키로 바로 찾으므로 빠르다\n",
    "print \"joelgrus\" in tweet_values\n",
    "\n",
    "# dict의 키는 수정할 수 없으며, 그렇기 때문에 list를 key로 사용할 수 없다\n",
    "# 다양한 값으로 구성된 키가 필요하다면 tuple이나 문자열을 조합해 사용한다\n",
    "tweet[('lat','lng')] = (123, 456)\n",
    "print tweet"
   ]
  },
  {
   "cell_type": "markdown",
   "metadata": {},
   "source": [
    "### defaultdict"
   ]
  },
  {
   "cell_type": "code",
   "execution_count": 74,
   "metadata": {
    "collapsed": false
   },
   "outputs": [
    {
     "name": "stdout",
     "output_type": "stream",
     "text": [
      "{'baz': 1, 'foo': 2, 'bar': 1, 'hello': 1}\n",
      "{'baz': 1, 'foo': 2, 'bar': 1, 'hello': 1}\n",
      "{'baz': 1, 'foo': 2, 'bar': 1, 'hello': 1}\n",
      "defaultdict(<type 'int'>, {'baz': 1, 'foo': 2, 'bar': 1, 'hello': 1})\n",
      "defaultdict(<type 'list'>, {2: [1]})\n",
      "defaultdict(<type 'dict'>, {'Joel': {'City': 'Seattle'}})\n",
      "defaultdict(<function <lambda> at 0x7f907d0c01b8>, {2: [0, 1]})\n"
     ]
    }
   ],
   "source": [
    "# 문서에서 단어의 빈도를 세어보는 중이라고 상상해보자\n",
    "document = ['foo', 'bar', 'baz', 'foo', 'hello']\n",
    "\n",
    "# 첫번째 방법\n",
    "word_counts = {}\n",
    "for word in document:\n",
    "    if word in word_counts:\n",
    "        word_counts[word] += 1\n",
    "    else:\n",
    "        word_counts[word] = 1\n",
    "print word_counts\n",
    "\n",
    "# 두번째 방법: 예외를 사용해볼 수 있다\n",
    "word_counts = {}\n",
    "for word in document:\n",
    "    try:\n",
    "        word_counts[word] += 1\n",
    "    except KeyError:\n",
    "        word_counts[word] = 1\n",
    "print word_counts\n",
    "\n",
    "# 세번째 방법: get()을 사용해본다\n",
    "word_counts = {}\n",
    "for word in document:\n",
    "    prev_count = word_counts.get(word, 0)\n",
    "    word_counts[word] = prev_count + 1\n",
    "print word_counts\n",
    "\n",
    "# 이런 경우, defaultdict를 사용하면 편리하다\n",
    "from collections import defaultdict\n",
    "\n",
    "word_counts = defaultdict(int) # int()는 기본값으로 0을 생성한다\n",
    "for word in document:\n",
    "    word_counts[word] += 1\n",
    "print word_counts\n",
    "\n",
    "# 같은 방법으로 list나 dict, 혹은 직접 만든 함수를 넣어줄 수도 있다\n",
    "dd_list = defaultdict(list)\n",
    "dd_list[2].append(1)\n",
    "print dd_list\n",
    "\n",
    "dd_dict = defaultdict(dict)\n",
    "dd_dict['Joel']['City'] = 'Seattle'\n",
    "print dd_dict\n",
    "\n",
    "dd_pair = defaultdict(lambda: [0, 0])\n",
    "dd_pair[2][1] = 1 # dd_pair[2] => [0, 0]으로 초기화됨\n",
    "print dd_pair"
   ]
  },
  {
   "cell_type": "markdown",
   "metadata": {},
   "source": [
    "### Counter"
   ]
  },
  {
   "cell_type": "code",
   "execution_count": 79,
   "metadata": {
    "collapsed": false
   },
   "outputs": [
    {
     "name": "stdout",
     "output_type": "stream",
     "text": [
      "Counter({0: 2, 1: 1, 2: 1})\n",
      "foo 2\n",
      "baz 1\n"
     ]
    }
   ],
   "source": [
    "# Counter는 연속된 값을 defaultdict(int)와 유사한 객체로 변환해주면, 리스트 내의 값을 key로, value를 빈도로 만들어준다\n",
    "# 히스토그램을 그릴 때 자주 사용한다\n",
    "\n",
    "from collections import Counter\n",
    "c = Counter([0, 1, 2, 0])\n",
    "print c\n",
    "\n",
    "# 특정 문서의 단어의 개수를 셀 때에도 유용하다\n",
    "word_counts = Counter(document)\n",
    "\n",
    "# 가장 자주 나오는 단어 2개와 빈도수\n",
    "for word, count in word_counts.most_common(2):\n",
    "    print word, count\n"
   ]
  },
  {
   "cell_type": "markdown",
   "metadata": {},
   "source": [
    "### set"
   ]
  },
  {
   "cell_type": "code",
   "execution_count": 111,
   "metadata": {
    "collapsed": false
   },
   "outputs": [
    {
     "name": "stdout",
     "output_type": "stream",
     "text": [
      "2\n",
      "True\n",
      "False\n",
      "set([1, 2, 4])\n",
      "False\n",
      "False\n"
     ]
    }
   ],
   "source": [
    "# set은 유일한 항목의 집합을 나타낸다\n",
    "s = set()\n",
    "s.add(1)\n",
    "s.add(2)\n",
    "s.add(2)\n",
    "print len(s) # 2\n",
    "print 2 in s\n",
    "print 3 in s\n",
    "\n",
    "s2 = {1, 2, 2, 4} # {} 로 정의할 수도 있다\n",
    "print s2 # set([1, 2, 4])\n",
    "\n",
    "# list보다 set에서의 in 연산자가 빠르게 동작한다\n",
    "stopwords_list = ['a', 'an', 'at', 'yet', 'you']\n",
    "print 'zip' in stopwords_list # 전체 항목을 훑는다\n",
    "\n",
    "stopwords_set = set(stopwords_list)\n",
    "print 'zip' in stopwords_set # 빠르다"
   ]
  },
  {
   "cell_type": "markdown",
   "metadata": {},
   "source": [
    "### 흐름 제어"
   ]
  },
  {
   "cell_type": "code",
   "execution_count": 93,
   "metadata": {
    "collapsed": false
   },
   "outputs": [
    {
     "name": "stdout",
     "output_type": "stream",
     "text": [
      "c\n",
      "odd\n",
      "0 is less than 10\n",
      "1 is less than 10\n",
      "2 is less than 10\n",
      "3 is less than 10\n",
      "4 is less than 10\n",
      "5 is less than 10\n",
      "6 is less than 10\n",
      "7 is less than 10\n",
      "8 is less than 10\n",
      "9 is less than 10\n",
      "0 is less thant 10\n",
      "1 is less thant 10\n",
      "2 is less thant 10\n",
      "3 is less thant 10\n",
      "4 is less thant 10\n",
      "5 is less thant 10\n",
      "6 is less thant 10\n",
      "7 is less thant 10\n",
      "8 is less thant 10\n",
      "9 is less thant 10\n",
      "0\n",
      "1\n",
      "2\n",
      "4\n"
     ]
    }
   ],
   "source": [
    "if 1 > 2:\n",
    "    print 'a'\n",
    "elif 1 > 3:\n",
    "    print 'b'\n",
    "else:\n",
    "    print 'c'\n",
    "\n",
    "# if 문을 한 줄로 표현할 수도 있다\n",
    "parity = \"even\" if x % 2 == 0 else \"odd\"\n",
    "print parity\n",
    "\n",
    "# 파이썬에도 while이 있지만,\n",
    "x = 0\n",
    "while x < 10:\n",
    "    print x, \"is less than 10\"\n",
    "    x += 1\n",
    "\n",
    "# 주로 for과 in을 더 많이 사용한다\n",
    "for x in range(10):\n",
    "    print x, \"is less thant 10\"\n",
    "\n",
    "# continue와 break도 사용할 수 있다\n",
    "for x in range(10):\n",
    "    if x == 3:\n",
    "        continue\n",
    "    if x == 5:\n",
    "        break\n",
    "    print x\n"
   ]
  },
  {
   "cell_type": "markdown",
   "metadata": {},
   "source": [
    "### True와 False"
   ]
  },
  {
   "cell_type": "code",
   "execution_count": 114,
   "metadata": {
    "collapsed": false
   },
   "outputs": [
    {
     "name": "stdout",
     "output_type": "stream",
     "text": [
      "True\n",
      "False\n",
      "True\n",
      "True\n",
      "True\n",
      "True\n",
      "False\n",
      "False\n"
     ]
    }
   ],
   "source": [
    "# 파이썬에서의 불리언은 항상 대문자로 시작한다\n",
    "print 1 < 2\n",
    "print 1 > 2\n",
    "\n",
    "# 존재하지 않는 값은 None이다\n",
    "x = None\n",
    "print x == None\n",
    "print x is None # 비교할 땐 is를 사용하는 것이 더 파이썬스럽다\n",
    "\n",
    "# 불리언 대신 다른 값으로 불리언을 표현할 수 있다\n",
    "# 아래 목록은 비교문에서 모두 거짓을 의미한다\n",
    "falsy_list = [False, None, [], {}, \"\", set(), 0, 0.0]\n",
    "\n",
    "# 파이썬에는 리스트의 모든 항목이 참이라면 True를 반환해주는 all()이 있고,\n",
    "# 적어도 하나의 항목이 참이라면 True를 반환하는 any()가 있다\n",
    "print all([True, 1, {3}]) # True\n",
    "print all([]) # True, 거짓인 항목이 없으므로\n",
    "print any([]) # False, 참인 항목이 없으므로\n",
    "print any(falsy_list) # False\n"
   ]
  },
  {
   "cell_type": "markdown",
   "metadata": {},
   "source": [
    "### 정렬"
   ]
  },
  {
   "cell_type": "code",
   "execution_count": 120,
   "metadata": {
    "collapsed": false
   },
   "outputs": [
    {
     "name": "stdout",
     "output_type": "stream",
     "text": [
      "[4, 1, 2, 3]\n",
      "[1, 2, 3, 4]\n",
      "[1, 2, 3, 4]\n",
      "[4, 3, 2, 1]\n",
      "[-4, 3, 2, -1]\n",
      "[('foo', 2), ('baz', 1), ('bar', 1), ('hello', 1)]\n"
     ]
    }
   ],
   "source": [
    "# sort()와 sorted()로 목록을 정렬할 수 있다\n",
    "# sort()는 리스트 자체를 정렬하고, sorted()는 정렬된 새로운 리스트를 반환한다\n",
    "x = [4, 1, 2, 3]\n",
    "y = sorted(x)\n",
    "print x # x는 변하지 않음\n",
    "print y\n",
    "x.sort() # 이제 x도 정렬된다\n",
    "print x\n",
    "\n",
    "# 내림차순으로 정렬하고 싶다면, reverse=True를 준다\n",
    "x.sort(reverse=True)\n",
    "print x\n",
    "\n",
    "# 지정한 함수의 결과값으로 정렬하고 싶다면, key에 함수를 넘겨주면 된다\n",
    "print sorted([-4, -1, 2, 3], key=abs, reverse=True)\n",
    "\n",
    "# 빈도의 내림차순으로 정렬\n",
    "print sorted(word_counts.items(),\n",
    "            key=lambda (word, count): count,\n",
    "            reverse=True)"
   ]
  },
  {
   "cell_type": "markdown",
   "metadata": {},
   "source": [
    "### List Comprehension"
   ]
  },
  {
   "cell_type": "code",
   "execution_count": 131,
   "metadata": {
    "collapsed": false
   },
   "outputs": [
    {
     "name": "stdout",
     "output_type": "stream",
     "text": [
      "[0, 2, 4]\n",
      "[0, 1, 4, 9, 16]\n",
      "[0, 4, 16]\n",
      "{0: 0, 1: 1, 2: 4, 3: 9, 4: 16}\n",
      "set([1])\n",
      "100\n",
      "[(0, 1), (0, 2), (0, 3), (0, 4), (1, 2), (1, 3), (1, 4), (2, 3), (2, 4), (3, 4)]\n"
     ]
    }
   ],
   "source": [
    "# 리스트에서 특정 항목을 선택하거나 변환한 결과를 새로운 리스트에 저장해야할 땐,\n",
    "# 리스트 컴프리헨션을 사용하는 것이 가장 파이썬스럽다\n",
    "even_numbers = [x for x in range(5) if x % 2 == 0]\n",
    "squres = [x * x for x in range(5)]\n",
    "even_squres = [x * x for x in range(5) if x % 2 == 0]\n",
    "\n",
    "print even_numbers\n",
    "print squres\n",
    "print even_squres\n",
    "\n",
    "# 리스트를 dict나 set으로 변환할 수도 있다\n",
    "squre_dict = { x : x * x for x in range(5) }\n",
    "squre_set = { x * x for x in [1, -1] }\n",
    "\n",
    "print squre_dict\n",
    "print squre_set\n",
    "\n",
    "# 리스트에서 불필요한 값은 _ 로 표기한다\n",
    "zeroes = [0 for _ in even_numbers] # even_numbers와 동일한 길이의 0의 리스트\n",
    "\n",
    "# 리스트 컴프리헨션에서는 여러 for을 포함할 수 있다\n",
    "pairs = [(x, y)\n",
    "        for x in range(10)\n",
    "        for y in range(10)]\n",
    "print len(pairs) # 100\n",
    "\n",
    "# 뒤에 나오는 for는 앞의 for의 결과에 대해 반복한다\n",
    "incresing_pairs = [(x, y)\n",
    "                  for x in range(5)\n",
    "                  for y in range(x + 1, 5)]\n",
    "print incresing_pairs"
   ]
  },
  {
   "cell_type": "markdown",
   "metadata": {},
   "source": [
    "### Generator와 iterator"
   ]
  },
  {
   "cell_type": "code",
   "execution_count": 155,
   "metadata": {
    "collapsed": false
   },
   "outputs": [
    {
     "name": "stdout",
     "output_type": "stream",
     "text": [
      "0\n",
      "1\n",
      "2\n",
      "3\n",
      "4\n",
      "5\n",
      "6\n",
      "7\n",
      "8\n",
      "9\n",
      "before for loop\n",
      "initialize\n",
      "before yield 0\n",
      "0\n",
      "after yield 0\n",
      "before yield 1\n",
      "1\n",
      "after yield 1\n",
      "<generator object <genexpr> at 0x7f907d0be6e0>\n",
      "baz 1\n",
      "foo 2\n",
      "bar 1\n",
      "hello 1\n"
     ]
    }
   ],
   "source": [
    "# 리스트의 크기가 클 경우, 한 번에 항목을 하나씩 처리하기 위해 전체 리스트를 사용하는 것은 비효율적이며 메모리가 부족해질 수도 있다\n",
    "# 만약 리스트 앞부분의 몇몇 값만 필요하다면 리스트 전체를 계산할 필요가 없다\n",
    "\n",
    "# Generator는 (주로 for문을 통해) 반복할 수 있으며, generator의 각 항목은 필요한 순간 그 때 그 때 생성된다\n",
    "# Generator는 함수와 yield로 만들 수 있다\n",
    "\n",
    "def lazy_range(n):\n",
    "    i = 0\n",
    "    while i < n:\n",
    "        yield i\n",
    "        i += 1\n",
    "\n",
    "# 아래와 같은 반복문은 yield로 반환되는 값이 없을 때까지 번환된 값을 차례로 하나씩 사용한다\n",
    "for i in lazy_range(10):\n",
    "    print i\n",
    "\n",
    "# 제너레이터를 반환하는 함수를 호출하면, 반복되기 전까지 실행되지 않는다\n",
    "def lazy_range_with_print(n):\n",
    "    print 'initialize'\n",
    "    i = 0\n",
    "    while i < n:\n",
    "        print 'before yield', i\n",
    "        yield i\n",
    "        print 'after yield', i\n",
    "        i += 1\n",
    "\n",
    "lazy_range_generator = lazy_range_with_print(2)\n",
    "print 'before for loop'\n",
    "for i in lazy_range_generator:\n",
    "    print i\n",
    "\n",
    "# 실제로 파이썬에는 xrange()라는 이름으로 lazy_range 함수가 구현되어 있고,\n",
    "# 파이썬 3부터는 range 자체가 generator로 만들어져있다\n",
    "\n",
    "# 제너레이터의 단점은, 제너레이터를 단 한 번만 반복할 수 있다는 점이다.\n",
    "# 데이터를 여러 번 반복하려고 한다면 매번 generator를 만들어야 한다\n",
    "\n",
    "\n",
    "# 괄호 안에 for문을 추가하는 방법으로도 generator를 만들 수 있다\n",
    "lazy_evens_below_20 = (i for i in xrange(20) if i % 2 == 0)\n",
    "print lazy_evens_below_20 # list가 아니라 generator다\n",
    "\n",
    "# dict의 items()는 dict의 모든 key와 value를 반환한다\n",
    "# iteritems()는 제너레이터를 반환한다\n",
    "for word, count in word_counts.iteritems():\n",
    "    print word, count\n"
   ]
  },
  {
   "cell_type": "markdown",
   "metadata": {},
   "source": [
    "### 난수 생성"
   ]
  },
  {
   "cell_type": "code",
   "execution_count": 183,
   "metadata": {
    "collapsed": false
   },
   "outputs": [
    {
     "name": "stdout",
     "output_type": "stream",
     "text": [
      "[0.7590759125821485, 0.17150008286557084, 0.5600729735057532, 0.5358903343136648]\n",
      "0.57140259469\n",
      "0.57140259469\n",
      "0.428889054675\n",
      "5\n",
      "3\n",
      "[3, 7, 5, 8, 4, 6, 0, 9, 1, 2]\n",
      "1\n",
      "[6, 57, 26, 44, 9, 3]\n",
      "sample large then population\n",
      "[8, 4, 3, 2]\n"
     ]
    }
   ],
   "source": [
    "# 난수(random number)를 생성해야 할 땐 random 모듈을 사용하면 된다\n",
    "import random\n",
    "\n",
    "four_uniform_randoms = [random.random() for _ in range(4)] # random.random()은 0과 1 사이의 난수를 생성한다\n",
    "print four_uniform_randoms\n",
    "\n",
    "# 만약 동일한 난수를 계속 사용하고 싶다면 random.seed()로 매번 고정된 난수를 생성하면 된다\n",
    "random.seed(10)\n",
    "print random.random()\n",
    "random.seed(10)\n",
    "print random.random() # 동일하다\n",
    "print random.random() # 한 번 고정 후엔 시드가 초기화된다\n",
    "\n",
    "# random.seed()를 한 번 설정한 후엔 초기화해준다\n",
    "# 생략하면 os.random() 또는 시스템 타임이 기본으로 사용된다\n",
    "random.seed()\n",
    "\n",
    "# randrange([start=0], stop)으로 구간 안에서의 난수를 생성할 수 있다\n",
    "print random.randrange(10) # [0, 1, ..., 9]에서 난수 생성\n",
    "print random.randrange(3, 6) # [3, 4, 5] 중에 난수 생성\n",
    "\n",
    "# shuffle(list)는 리스트의 항목의 순서를 임의로 재정렬한다\n",
    "up_to_ten = range(10)\n",
    "random.shuffle(up_to_ten)\n",
    "print up_to_ten\n",
    "\n",
    "# choice()는 임의의 항목을 하나 선택한다\n",
    "print random.choice(up_to_ten)\n",
    "\n",
    "# sample(list, numer)를 사용하면 중복을 허용하지 않는 임의의 표본 리스트를 만든다\n",
    "lottery_numbers = range(60)\n",
    "winning_numbers = random.sample(lottery_numbers, 6)\n",
    "print winning_numbers\n",
    "\n",
    "# 모수 리스트가 표본 리스트보다 작다면 ValueError가 발생한다\n",
    "try:\n",
    "    random.sample([1, 2], 5)\n",
    "except ValueError:\n",
    "    print \"sample large then population\"\n",
    "\n",
    "# 중복을 허용하고 싶다면 choice()를 여러 번 호출하면 된다\n",
    "four_with_replacement = [random.choice(range(10))\n",
    "                        for _ in range(4)]\n",
    "print four_with_replacement"
   ]
  },
  {
   "cell_type": "markdown",
   "metadata": {},
   "source": [
    "### 정규표현식"
   ]
  },
  {
   "cell_type": "code",
   "execution_count": 189,
   "metadata": {
    "collapsed": false
   },
   "outputs": [
    {
     "name": "stdout",
     "output_type": "stream",
     "text": [
      "True\n"
     ]
    }
   ],
   "source": [
    "# re 모듈을 사용하면 된다\n",
    "import re\n",
    "\n",
    "print all([\n",
    "        not re.match(\"a\", \"cat\"),\n",
    "        re.search(\"a\", \"cat\"),\n",
    "        not re.search(\"c\", \"dog\"),\n",
    "        3 == len(re.split(\"[ab]\", \"carbs\")), # a 또는 b 로 나누면 3개\n",
    "        \"R-D-\" == re.sub(\"[0-9]\", \"-\", \"R2D2\") # 숫자를 - 로 대체\n",
    "])"
   ]
  },
  {
   "cell_type": "markdown",
   "metadata": {},
   "source": [
    "### 객체 지향 프로그래밍"
   ]
  },
  {
   "cell_type": "code",
   "execution_count": 195,
   "metadata": {
    "collapsed": false
   },
   "outputs": [
    {
     "name": "stdout",
     "output_type": "stream",
     "text": [
      "Set: [1, 2, 3]\n",
      "Set: [1, 2, 3, 4]\n",
      "True\n",
      "Set: [1, 3, 4]\n"
     ]
    }
   ],
   "source": [
    "# 클래스 이름은 캐멀케이스로\n",
    "class Set:\n",
    "    # 모든 멤버 함수의 첫 번째 인자는 self\n",
    "    # self는 현재 인스턴스를 의미한다\n",
    "    def __init__(self, values=None):\n",
    "        \"\"\"생성자\"\"\"\n",
    "        self.dict = {}\n",
    "        \n",
    "        if values is not None:\n",
    "            for value in values:\n",
    "                self.add(value)\n",
    "    \n",
    "    def __repr__(self):\n",
    "        \"\"\"파이썬 프롬프트에서 이 인스턴스를 입력하거나, str()로 보내주면 문자열로 출력한다\"\"\"\n",
    "        return \"Set: \" + str(self.dict.keys())\n",
    "\n",
    "    def add(self, value):\n",
    "        self.dict[value] = True\n",
    "    \n",
    "    def contains(self, value):\n",
    "        return value in self.dict\n",
    "\n",
    "    def remove(self, value):\n",
    "        del self.dict[value]\n",
    "\n",
    "# 생성한 클래스는 아래처럼 사용할 수 있다\n",
    "s1 = Set([1, 2, 3])\n",
    "print s1\n",
    "\n",
    "s1.add(4)\n",
    "print s1\n",
    "\n",
    "print s1.contains(2)\n",
    "\n",
    "s1.remove(2)\n",
    "print s1\n"
   ]
  },
  {
   "cell_type": "markdown",
   "metadata": {},
   "source": [
    "### 함수형 도구"
   ]
  },
  {
   "cell_type": "code",
   "execution_count": 210,
   "metadata": {
    "collapsed": false
   },
   "outputs": [
    {
     "name": "stdout",
     "output_type": "stream",
     "text": [
      "8\n",
      "9\n",
      "[2, 4, 6, 8]\n",
      "[2, 4, 6, 8]\n",
      "[2, 4, 6, 8]\n",
      "[4, 10]\n",
      "[2, 4]\n",
      "[2, 4]\n",
      "[2, 4]\n",
      "24\n",
      "24\n"
     ]
    }
   ],
   "source": [
    "# 함수의 특정 부분을 사용해 새로운 함수를 만들고 싶은 경우가 있다\n",
    "# 이를 partial function application 또는 currying 이라고 한다\n",
    "def exp(base, power):\n",
    "    return base ** power\n",
    "\n",
    "# 이 때 base 값을 고정해주는 함수를 만들고 싶다면 아래처럼 정의할 수 있다\n",
    "def two_to_the(power):\n",
    "    return exp(2, power)\n",
    "\n",
    "# 이런 방식 대신 functool.partial이라는 것을 사용할 수 있다\n",
    "from functools import partial\n",
    "two_to_the = partial(exp, 2) # 첫 번째 인자를 2로 고정한 함수가 반환된다\n",
    "print two_to_the(3) # 8\n",
    "\n",
    "# 인자의 이름을 정해주면 첫 번째 인자가 아니어도 적용할 수 있다\n",
    "square_of = partial(exp, power=2)\n",
    "print square_of(3) # 9\n",
    "# 하지만 함수 중간 인자를 partial로 사용하면 복잡해질 수 있으므로 지양하는 것이 좋다\n",
    "\n",
    "# list comprehension의 대안으로 map, reduce, filter를 사용하는 경우도 있다\n",
    "def double(x):\n",
    "    return 2 * x\n",
    "\n",
    "# list comprehension\n",
    "xs = [1, 2, 3, 4]\n",
    "twice_xs = [double(x) for x in xs]\n",
    "print twice_xs\n",
    "\n",
    "# map을 사용\n",
    "twice_xs = map(double, xs) # 첫 번째 인자가 함수인 것에 주의한다\n",
    "print twice_xs\n",
    "\n",
    "# partial + map\n",
    "list_doubler = partial(map, double) # 맵의 첫 번째 인자를 double로 설정. list 값을 두 배로 만들어주는 함수가 된다.\n",
    "twice_xs = list_doubler(xs)\n",
    "print twice_xs\n",
    "\n",
    "# 여러 개의 list를 입력해주면, 인자가 여러 개인 함수에도 map을 적용할 수 있다\n",
    "def multiply(x, y):\n",
    "    return x * y\n",
    "\n",
    "products = map(multiply, [1, 2], [4, 5]) # [1*4, 2*5]\n",
    "print products\n",
    "\n",
    "# filter는 if가 포함된 list comprehension과 동일하다\n",
    "def is_even(x):\n",
    "    return x % 2 == 0\n",
    "\n",
    "x_evens = [x for x in xs if is_even(x)] # [2, 4]\n",
    "print x_evens\n",
    "\n",
    "x_evens = filter(is_even, xs)\n",
    "print x_evens\n",
    "\n",
    "list_evener = partial(filter, is_even)\n",
    "x_evens = list_evener(xs)\n",
    "print x_evens\n",
    "\n",
    "# reduce는 모든 항목을 순차적으로 합해주면서 리스트를 하나의 값으로 표현한다\n",
    "x_product = reduce(multiply, xs) # = 1 * 2 * 3 * 4 = 24\n",
    "print x_product\n",
    "\n",
    "list_product = partial(reduce, multiply)\n",
    "x_product = list_product(xs)\n",
    "print x_product"
   ]
  },
  {
   "cell_type": "markdown",
   "metadata": {},
   "source": [
    "### enumerate"
   ]
  },
  {
   "cell_type": "code",
   "execution_count": 213,
   "metadata": {
    "collapsed": false
   },
   "outputs": [
    {
     "name": "stdout",
     "output_type": "stream",
     "text": [
      "0 3\n",
      "1 4\n",
      "2 5\n",
      "3 6\n",
      "4 7\n",
      "5 8\n",
      "6 9\n",
      "0\n",
      "1\n",
      "2\n",
      "3\n",
      "4\n",
      "5\n",
      "6\n"
     ]
    }
   ],
   "source": [
    "# list를 반복하면서 항목과 인덱스가 필요할 때는 tuple을 생성하는 enumerate을 활용하면 된다.\n",
    "for i, v in enumerate(range(3, 10)):\n",
    "    print i, v\n",
    "\n",
    "# 만약 인덱스만 필요하다면 다음과 같이 작성해도 좋다\n",
    "for i, _ in enumerate(range(3, 10)):\n",
    "    print i"
   ]
  },
  {
   "cell_type": "markdown",
   "metadata": {},
   "source": [
    "### zip과 argument unpacking"
   ]
  },
  {
   "cell_type": "code",
   "execution_count": 222,
   "metadata": {
    "collapsed": false
   },
   "outputs": [
    {
     "name": "stdout",
     "output_type": "stream",
     "text": [
      "[('a', 1), ('b', 2), ('c', 3)]\n",
      "('a', 'b', 'c')\n",
      "(1, 2, 3)\n",
      "[('a', 'b', 'c'), (1, 2, 3)]\n",
      "3\n",
      "3\n"
     ]
    }
   ],
   "source": [
    "# 가끔식 2개 이상의 리스트를 서로 묶어 주고 싶을 때가 있다.\n",
    "# zip은 여러 개의 리스트를 서로 상응하는 튜플로 구성된 리스트로 변환해준다.\n",
    "list1 = ['a', 'b', 'c', 'd']\n",
    "list2 = [1, 2, 3]\n",
    "pairs = zip(list1, list2) # 리스트 길이가 다르다면 첫 번째 리스트가 끝날 때 멈춘다\n",
    "print pairs\n",
    "\n",
    "# 묶인 리스트를 아래처럼 풀 수도 있다\n",
    "letters, numbers = zip(*pairs)\n",
    "print letters\n",
    "print numbers\n",
    "\n",
    "# 별표(*)는 원래 argument unpacking(인자 해체)을 할 때 사용되는 문법으로, \n",
    "# 이렇게 하면 pairs 내의 항목들을 zip 함수에 개발적인 인자로 전달해준다.\n",
    "# 결국 아래와 같이 호출하는 것과 동일하다\n",
    "print zip(('a', 1), ('b', 2), ('c', 3))\n",
    "\n",
    "# 이런 방식의 argument unpacking은 모든 함수에 적용할 수 있다\n",
    "def add(a, b):\n",
    "    return a + b\n",
    "\n",
    "print add(1, 2) # 3\n",
    "print add(*[1, 2]) # 3, add([1, 2])와 같이 호출하면 TypeError가 발생한다\n"
   ]
  },
  {
   "cell_type": "markdown",
   "metadata": {},
   "source": [
    "### args와 kwargs"
   ]
  },
  {
   "cell_type": "code",
   "execution_count": 227,
   "metadata": {
    "collapsed": false
   },
   "outputs": [
    {
     "name": "stdout",
     "output_type": "stream",
     "text": [
      "8\n",
      "0\n",
      "unnamed args: (1, 2)\n",
      "named args: {'key2': 'word2', 'key': 'word'}\n",
      "6\n",
      "10\n"
     ]
    }
   ],
   "source": [
    "# 특정 함수 f를 입력하면 f의 결과를 두 배로 만드는 함수를 반환해주는 고차 함수를 만들고 싶다고 해보자\n",
    "def doubler(f):\n",
    "    def g(x):\n",
    "        return 2 * f(x)\n",
    "    return g\n",
    "\n",
    "def f1(x):\n",
    "    return x + 1\n",
    "\n",
    "g = doubler(f1)\n",
    "print g(3) # 8, (3+1) * 2\n",
    "print g(-1) # 0\n",
    "\n",
    "\n",
    "# 이 때 인자가 2개 이상이라면 문제가 발생한다\n",
    "# doubler()는 인자가 1개인 함수만 처리하기 때문이다\n",
    "def f2(x, y):\n",
    "    return x + y\n",
    "\n",
    "# 이럴 때 argument unpacking을 활용하면 처리할 수 있다\n",
    "def magic(*args, **kwargs):\n",
    "    print \"unnamed args:\", args # 이름 없는 인자들의 tuple\n",
    "    print \"named args:\", kwargs # 이름 있는 인자의 dict\n",
    "\n",
    "magic(1, 2, key=\"word\", key2=\"word2\")\n",
    "\n",
    "# 반대로, 정해진 수의 인자가 있는 함수를 호출할 때에도 list나 dict로 인자를 전달할 수 있다\n",
    "def other_way_magic(x, y, z):\n",
    "    return x + y + z\n",
    "\n",
    "x_y_list = [1, 2]\n",
    "z_dict = {\"z\": 3}\n",
    "print other_way_magic(*x_y_list, **z_dict) # 6\n",
    "\n",
    "# args와 kwargs는 특히 임의의 인자를 받는 고차함수를 만들 때 요긴하게 사용할 수 있다\n",
    "def doubler_correct(f):\n",
    "    def g(*args, **kwargs):\n",
    "        \"\"\"어떤 인자가 들어오든 그대로 f로 전달한다\"\"\"\n",
    "        return 2 * f(*args, **kwargs)\n",
    "    return g\n",
    "\n",
    "g = doubler_correct(f2)\n",
    "print g(2, 3) # 10, (2 + 3) * 2"
   ]
  }
 ],
 "metadata": {
  "kernelspec": {
   "display_name": "Python 2",
   "language": "python",
   "name": "python2"
  },
  "language_info": {
   "codemirror_mode": {
    "name": "ipython",
    "version": 2
   },
   "file_extension": ".py",
   "mimetype": "text/x-python",
   "name": "python",
   "nbconvert_exporter": "python",
   "pygments_lexer": "ipython2",
   "version": "2.7.12"
  }
 },
 "nbformat": 4,
 "nbformat_minor": 1
}
