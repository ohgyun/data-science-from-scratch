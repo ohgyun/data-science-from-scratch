{
 "cells": [
  {
   "cell_type": "markdown",
   "metadata": {},
   "source": [
    "### 벡터\n",
    "\n",
    "- 벡터: 벡터끼리 더하거나 상수와 곱해지면 새로운 벡터를 생성하는 개념적 도구\n",
    "- 벡터는 어떤 유한한 차원의 공간에 존재하는 점들\n",
    "- 벡터는 크키와 방향을 갖는다"
   ]
  },
  {
   "cell_type": "code",
   "execution_count": 31,
   "metadata": {
    "collapsed": false
   },
   "outputs": [
    {
     "name": "stdout",
     "output_type": "stream",
     "text": [
      "[7, 14, 6]\n",
      "[1, -4, -2]\n",
      "[8, 21, 8]\n",
      "[8, 21, 8]\n",
      "[8, 21, 8]\n",
      "[8, 10, 4]\n",
      "[2.6666666666666665, 7.0, 2.6666666666666665]\n",
      "65\n",
      "45\n",
      "6.7082039325\n",
      "4.58257569496\n",
      "4.58257569496\n"
     ]
    }
   ],
   "source": [
    "# 벡터를 연산할 수 있는 함수를 간단히 만들어보자\n",
    "from __future__ import division\n",
    "\n",
    "# 벡터를 가장 간단하게 표현하는 방법은 숫자로 구성된 list를 표현하는 것\n",
    "height_weight_age = [70, # height\n",
    "                     80, # weight\n",
    "                     40] # age\n",
    "grades = [95, # 시험1 점수\n",
    "         80, # 시험2 점수\n",
    "         75, # 시험3 점수\n",
    "         62] # 시험4 점수\n",
    "\n",
    "# 두 벡터를 더하거나 빼보자\n",
    "v = [4, 5, 2]\n",
    "w = [3, 9, 4]\n",
    "\n",
    "# 덧셈은 zip을 사용해 두 벡터를 묶은 후, 배열의 각 성분끼리 더하는 리스트 컴프리헨션을 적용하면 된다\n",
    "def vector_add(v, w):\n",
    "    return [v_i + w_i\n",
    "           for v_i, w_i in zip(v, w)]\n",
    "\n",
    "print vector_add(v, w)\n",
    "\n",
    "# 같은 방법으로 뺄 수도 있다\n",
    "def vector_substract(v, w):\n",
    "    return [v_i - w_i\n",
    "           for v_i, w_i in zip(v, w)]\n",
    "\n",
    "print vector_substract(v, w)\n",
    "\n",
    "# 벡터로 구성된 전체 리스트에서 모든 벡터의 각 성분을 더하고 싶은 경우도 있다\n",
    "vectors = [\n",
    "    [4, 5, 2],\n",
    "    [3, 9, 4],\n",
    "    [1, 7, 2]\n",
    "]\n",
    "\n",
    "def vector_sum(verctos):\n",
    "    result = vectors[0] # 첫 번째 벡터부터 시작해서\n",
    "    for vector in vectors[1:]:\n",
    "        result = vector_add(result, vector)\n",
    "    return result\n",
    "\n",
    "print vector_sum(vectors)\n",
    "\n",
    "# reduce로 처리하면 더 간략할 것이다\n",
    "def vector_sum(vectors):\n",
    "    return reduce(vector_add, vectors)\n",
    "\n",
    "print vector_sum(vectors)\n",
    "\n",
    "# 아래처럼 파샬을 사용해 만들어둬도 좋다\n",
    "from functools import partial\n",
    "vector_sum = partial(reduce, vector_add)\n",
    "\n",
    "print vector_sum(vectors)\n",
    "\n",
    "# 벡터에 스칼라를 곱해줄 수도 있어야 한다\n",
    "def scalar_multiply(c, v):\n",
    "    \"\"\"c는 곱할 수, v는 벡터\"\"\"\n",
    "    return [c * v_i for v_i in v]\n",
    "\n",
    "print scalar_multiply(2, v)\n",
    "\n",
    "# 벡터로 구성된 리스트의 평균을 구할 수도 있을 것이다\n",
    "def vector_mean(vectors):\n",
    "    n = len(vectors)\n",
    "    return scalar_multiply(1/n, vector_sum(vectors))\n",
    "\n",
    "print vector_mean(vectors)\n",
    "    \n",
    "# 벡터의 내적도 구해보자\n",
    "# 내적은 각 벡터의 성분을 곱한 값의 합이다\n",
    "def dot(v, w):\n",
    "    return sum(v_i * w_i\n",
    "              for v_i, w_i in zip(v, w))\n",
    "\n",
    "print dot(v, w) # 65 = 12 + 45 + 8\n",
    "\n",
    "# 내적을 이용해 각 성분의 제곱 값의 합을 쉽게 구할 수 있다\n",
    "def sum_of_squares(v):\n",
    "    return dot(v, v)\n",
    "\n",
    "print sum_of_squares(v) # 45 = 4*4 + 5*5 + 2*2\n",
    "\n",
    "# 제곱 값의 합을 이용하면 벡터의 크기를 계산할 수 있다\n",
    "import math\n",
    "\n",
    "def magnitude(v): # 면적\n",
    "    return math.sqrt(sum_of_squares(v)) # math.sqrt는 제곱근을 계산\n",
    "\n",
    "print magnitude(v)\n",
    "\n",
    "# 두 벡터 간의 거리\n",
    "# root( (v1 - w1)^2 + ... (vn - wn)^2 )\n",
    "def squared_distance(v, w):\n",
    "    return sum_of_squares(vector_substract(v, w))\n",
    "\n",
    "def distance(v, w):\n",
    "    return math.sqrt(squared_distance(v, w))\n",
    "\n",
    "print distance(v, w)\n",
    "\n",
    "# 아래처럼 수정하면 더 깔끔해진다\n",
    "def distance(v, w):\n",
    "    return magnitude(vector_substract(v, w))\n",
    "\n",
    "print distance(v, w)\n",
    "\n",
    "# 실제 벡터 연산을 할 땐, NumPy 라이브러리를 활용하자"
   ]
  },
  {
   "cell_type": "markdown",
   "metadata": {},
   "source": [
    "### 행렬 (Matrix)\n",
    "\n",
    "행렬은 2차원으로 구성된 숫자의 집합이며, list의 list로 표현할 수 있다.  \n",
    "list 안의 list들은 행렬의 행을 나타내며 모두 같은 길이를 갖는다."
   ]
  },
  {
   "cell_type": "code",
   "execution_count": 42,
   "metadata": {
    "collapsed": false
   },
   "outputs": [
    {
     "name": "stdout",
     "output_type": "stream",
     "text": [
      "(2, 3)\n",
      "(3, 2)\n",
      "[3, 4]\n",
      "[2, 4, 6]\n",
      "[[1, 0, 0, 0, 0], [0, 1, 0, 0, 0], [0, 0, 1, 0, 0], [0, 0, 0, 1, 0], [0, 0, 0, 0, 1]]\n"
     ]
    }
   ],
   "source": [
    "A = [[1, 2, 3],\n",
    "    [4, 5, 6]] # A는 2개의 행(row)과, 3개의 열(column)로 구성된다\n",
    "\n",
    "B = [[1, 2],\n",
    "     [3, 4],\n",
    "     [5, 6]] # B는 3개의 행과 2개의 열\n",
    "\n",
    "# 행렬의 형태를 계산해보자\n",
    "def shape(A):\n",
    "    num_rows = len(A)\n",
    "    num_cols = len(A[0]) if A else 0\n",
    "    return num_rows, num_cols\n",
    "\n",
    "print shape(A) # 2x3 행렬\n",
    "print shape(B) # 3x2 행렬\n",
    "\n",
    "# nxk 행렬에서 각 행의 길이는 k이고, 열의 길이는 n이다\n",
    "def get_row(A, i):\n",
    "    return A[i]\n",
    "\n",
    "def get_col(A, j):\n",
    "    return [A_i[j]\n",
    "           for A_i in A]\n",
    "\n",
    "print get_row(B, 1) # [3, 4]\n",
    "print get_col(B, 1) # [2, 4, 6]\n",
    "\n",
    "# 형태가 주어졌을 때, 형태에 맞는 행렬을 생성하고 채우는 함수를 만들어보자\n",
    "def make_matrix(num_rows, num_cols, entry_fn):\n",
    "    \"\"\"(i, j)번째 원소가 entry_fn(i, j)인 행렬\"\"\"\n",
    "    return [[entry_fn(i, j)\n",
    "             for j in range(num_cols)]\n",
    "            for i in range(num_rows)]\n",
    "\n",
    "def is_diagonal(i, j): # 대각선 원소는 1, 아니면 0\n",
    "    return 1 if i == j else 0\n",
    "\n",
    "print make_matrix(5, 5, is_diagonal)"
   ]
  },
  {
   "cell_type": "markdown",
   "metadata": {},
   "source": [
    "행렬은 몇 가지 이유로 매우 중요하다\n",
    "- 벡터를 행렬의 행으로 나타내면, 여러 벡터로 구성된 데이터셋을 행렬로 표현할 수 있다\n",
    "  - 예를 들어, 1000명에 대한 키, 몸무게, 나이를 1000x3 행렬로 표현할 수 있다\n",
    "- *k*차원의 벡터를 *n*차원 벡터로 변환해주는 선형함수를 *n*x*k* 행렬로 표현할 수 있다\n",
    "- 행렬로 **이진 관계(binary relationship)**을 표현할 수 있다\n",
    "  - 1장에서 네트워크 엣지(edge)를 (i,j) 쌍의 집합으로 표현했는데, 이런 구조를 행렬로 나타낼 수 있다\n",
    "  - 예를 들어, i와 j가 연결되어 있으면, `A[i][j]`의 값이 1이고, 아니면 0인 행려로 표현할 수 있다"
   ]
  },
  {
   "cell_type": "code",
   "execution_count": 47,
   "metadata": {
    "collapsed": false
   },
   "outputs": [
    {
     "name": "stdout",
     "output_type": "stream",
     "text": [
      "True\n",
      "False\n",
      "[4, 7]\n"
     ]
    }
   ],
   "source": [
    "# 1장에서 아래와 같이 표현했다면,\n",
    "friendships = [(0, 1), (0, 2), (1, 2), (1, 3), (2, 3), (3, 4),\n",
    "              (4, 5), (5, 4), (5, 7), (6, 8), (7, 8), (8, 9)]\n",
    "\n",
    "# 아래와 같이 표현할 수 있다\n",
    "        # 사용자 0   1  2  3  4  5  6  7  8  9\n",
    "friendships = [[0, 1, 1, 0, 0, 0, 0, 0, 0, 0], # 사용자 0\n",
    "               [1, 0, 1, 1, 0, 0, 0, 0, 0, 0], # 사용자 1\n",
    "               [1, 1, 0, 1, 0, 0, 0, 0, 0, 0], # 사용자 2\n",
    "               [0, 1, 1, 0, 1, 0, 0, 0, 0, 0], # 사용자 3\n",
    "               [0, 0, 0, 1, 0, 1, 0, 0, 0, 0], # 사용자 4\n",
    "               [0, 0, 0, 0, 1, 0, 0, 1, 0, 0], # 사용자 5\n",
    "               [0, 0, 0, 0, 0, 0, 0, 0, 1, 0], # 사용자 6\n",
    "               [0, 0, 0, 0, 0, 1, 0, 0, 1, 0], # 사용자 7\n",
    "               [0, 0, 0, 0, 0, 0, 1, 1, 0, 1], # 사용자 8\n",
    "               [0, 1, 1, 0, 0, 0, 0, 0, 1, 0], # 사용자 9\n",
    "              ]\n",
    "\n",
    "# 행렬에서는 두 사용자가 연결되어 있는지 빠르게 확인할 수 있다\n",
    "print friendships[0][2] == 1 # 사용자 0과 2가 친구인지 여부\n",
    "print friendships[0][3] == 1 # 사용자 0과 3이 친구인지 여부\n",
    "\n",
    "# 사용자가 누구와 연결되어 있는지는 해당 사용자를 나타내는 열 또는 행을 살펴보면 된다\n",
    "friends_of_five = [i\n",
    "                  for i, is_friend in enumerate(friendships[5])\n",
    "                  if is_friend]\n",
    "print friends_of_five"
   ]
  }
 ],
 "metadata": {
  "kernelspec": {
   "display_name": "Python 2",
   "language": "python",
   "name": "python2"
  },
  "language_info": {
   "codemirror_mode": {
    "name": "ipython",
    "version": 2
   },
   "file_extension": ".py",
   "mimetype": "text/x-python",
   "name": "python",
   "nbconvert_exporter": "python",
   "pygments_lexer": "ipython2",
   "version": "2.7.12"
  }
 },
 "nbformat": 4,
 "nbformat_minor": 1
}
